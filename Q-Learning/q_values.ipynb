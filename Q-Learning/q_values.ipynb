{
 "cells": [
  {
   "cell_type": "code",
   "execution_count": 1,
   "metadata": {},
   "outputs": [],
   "source": [
    "import gymnasium as gym\n",
    "\n",
    "env = gym.make(\"LunarLander-v3\", render_mode=\"human\")\n",
    "observation, info = env.reset()\n",
    "\n",
    "episode_over = False\n",
    "while not episode_over:\n",
    "    action = env.action_space.sample()  # agent policy that uses the observation and info\n",
    "    observation, reward, terminated, truncated, info = env.step(action)\n",
    "\n",
    "    episode_over = terminated or truncated\n",
    "\n",
    "env.close()"
   ]
  },
  {
   "cell_type": "code",
   "execution_count": 2,
   "metadata": {},
   "outputs": [],
   "source": [
    "import collections\n",
    "from torch.utils.tensorboard import SummaryWriter"
   ]
  },
  {
   "cell_type": "code",
   "execution_count": 3,
   "metadata": {},
   "outputs": [],
   "source": [
    "writer = SummaryWriter('runs/q_learning')"
   ]
  },
  {
   "cell_type": "code",
   "execution_count": 4,
   "metadata": {},
   "outputs": [],
   "source": [
    "ENV_NAME='FrozenLake-v1'\n",
    "GAMMA=0.9\n",
    "TEST_EPISODES=20"
   ]
  },
  {
   "cell_type": "code",
   "execution_count": 5,
   "metadata": {},
   "outputs": [],
   "source": [
    "class Agent:\n",
    "    def __init__(self):\n",
    "        self.env = gym.make(ENV_NAME)\n",
    "        self.initial_state, _ = self.env.reset()\n",
    "        self.value_table = collections.defaultdict(float)\n",
    "        self.rewards_table = collections.defaultdict(float)\n",
    "        self.transition_table = collections.defaultdict(collections.Counter)\n",
    "        \n",
    "    def play_n_random_steps(self, count):\n",
    "        for i in range(count):\n",
    "            action = self.env.action_space.sample()\n",
    "            # print(self.env.step(action))\n",
    "            new_state, reward, is_done, _ , _= self.env.step(action)\n",
    "            self.rewards_table[(self.initial_state, action, new_state)] = reward\n",
    "            self.transition_table[(self.initial_state, action)][new_state] += 1\n",
    "            if is_done:\n",
    "                self.initial_state, _ = self.env.reset()\n",
    "                \n",
    "            else:\n",
    "                self.initial_state = new_state\n",
    "                \n",
    "    def calculate_action_value(self, state, action):\n",
    "        target_counts = self.transition_table[(state, action)]\n",
    "        total = sum(target_counts.values())\n",
    "        action_value = 0.0\n",
    "        # print(target_counts.items())\n",
    "        for target_state, count in target_counts.items():\n",
    "            current_reward = self.rewards_table[(state, action, target_state)]\n",
    "            transition_probability = count / total\n",
    "            action_value += transition_probability * (current_reward + GAMMA * self.value_table[(target_state, action)])\n",
    "        return action_value\n",
    "    \n",
    "\n",
    "    def select_best_action(self, state, env):\n",
    "        \n",
    "        best_action = None\n",
    "        best_action_value = None\n",
    "        \n",
    "        for i in range(env.action_space.n):\n",
    "            action = i\n",
    "            current_action_value = self.calculate_action_value(state, action)\n",
    "            if best_action_value is None or current_action_value > best_action_value:\n",
    "                best_action_value = current_action_value\n",
    "                best_action = i\n",
    "        return best_action\n",
    "    \n",
    "    \n",
    "    def v_iteration(self):\n",
    "        for state in range(self.env.observation_space.n):\n",
    "            q_values = [ self.calculate_action_value(state, action) for action in range(self.env.action_space.n)]\n",
    "            preferred_action = max(q_values)\n",
    "            self.value_table[(state, action)] = preferred_action\n",
    "    \n",
    "    def play_fullepisode(self, env):\n",
    "        \n",
    "        state, _ = env.reset()\n",
    "        total_reward = 0.0\n",
    "        while True:\n",
    "           \n",
    "            action = self.select_best_action(state, env)\n",
    "            new_state, reward, is_done, _ , _= self.env.step(action)\n",
    "            self.rewards_table[(state, action, new_state)] = reward\n",
    "            self.transition_table[(state, action)][new_state] += 1\n",
    "            total_reward += reward\n",
    "            if is_done:\n",
    "                break\n",
    "            else:\n",
    "                state = new_state\n",
    "                \n",
    "        return total_reward"
   ]
  },
  {
   "cell_type": "code",
   "execution_count": 6,
   "metadata": {},
   "outputs": [],
   "source": [
    "agent = Agent()\n",
    "# i, _ = agent.env.reset()\n",
    "# i\n"
   ]
  },
  {
   "cell_type": "code",
   "execution_count": 7,
   "metadata": {},
   "outputs": [
    {
     "name": "stdout",
     "output_type": "stream",
     "text": [
      "Best reward updated 0.000 -> 0.050\n",
      "Best reward updated 0.050 -> 0.050\n",
      "Best reward updated 0.050 -> 0.050\n",
      "Best reward updated 0.050 -> 0.050\n",
      "Best reward updated 0.050 -> 0.053\n",
      "Best reward updated 0.053 -> 0.053\n",
      "Best reward updated 0.053 -> 0.053\n",
      "Best reward updated 0.053 -> 0.053\n"
     ]
    },
    {
     "ename": "KeyboardInterrupt",
     "evalue": "",
     "output_type": "error",
     "traceback": [
      "\u001b[0;31m---------------------------------------------------------------------------\u001b[0m",
      "\u001b[0;31mKeyboardInterrupt\u001b[0m                         Traceback (most recent call last)",
      "Cell \u001b[0;32mIn[7], line 8\u001b[0m\n\u001b[1;32m      4\u001b[0m test_env \u001b[38;5;241m=\u001b[39m gym\u001b[38;5;241m.\u001b[39mmake(ENV_NAME)\n\u001b[1;32m      7\u001b[0m \u001b[38;5;28;01mwhile\u001b[39;00m \u001b[38;5;28;01mTrue\u001b[39;00m:\n\u001b[0;32m----> 8\u001b[0m     \u001b[43magent\u001b[49m\u001b[38;5;241;43m.\u001b[39;49m\u001b[43mplay_n_random_steps\u001b[49m\u001b[43m(\u001b[49m\u001b[38;5;241;43m100\u001b[39;49m\u001b[43m)\u001b[49m\n\u001b[1;32m      9\u001b[0m     agent\u001b[38;5;241m.\u001b[39mv_iteration()\n\u001b[1;32m     10\u001b[0m     \u001b[38;5;28miter\u001b[39m \u001b[38;5;241m+\u001b[39m\u001b[38;5;241m=\u001b[39m \u001b[38;5;241m1\u001b[39m\n",
      "Cell \u001b[0;32mIn[5], line 11\u001b[0m, in \u001b[0;36mAgent.play_n_random_steps\u001b[0;34m(self, count)\u001b[0m\n\u001b[1;32m      9\u001b[0m \u001b[38;5;28;01mdef\u001b[39;00m \u001b[38;5;21mplay_n_random_steps\u001b[39m(\u001b[38;5;28mself\u001b[39m, count):\n\u001b[1;32m     10\u001b[0m     \u001b[38;5;28;01mfor\u001b[39;00m i \u001b[38;5;129;01min\u001b[39;00m \u001b[38;5;28mrange\u001b[39m(count):\n\u001b[0;32m---> 11\u001b[0m         action \u001b[38;5;241m=\u001b[39m \u001b[38;5;28;43mself\u001b[39;49m\u001b[38;5;241;43m.\u001b[39;49m\u001b[43menv\u001b[49m\u001b[38;5;241;43m.\u001b[39;49m\u001b[43maction_space\u001b[49m\u001b[38;5;241;43m.\u001b[39;49m\u001b[43msample\u001b[49m\u001b[43m(\u001b[49m\u001b[43m)\u001b[49m\n\u001b[1;32m     12\u001b[0m         \u001b[38;5;66;03m# print(self.env.step(action))\u001b[39;00m\n\u001b[1;32m     13\u001b[0m         new_state, reward, is_done, _ , _\u001b[38;5;241m=\u001b[39m \u001b[38;5;28mself\u001b[39m\u001b[38;5;241m.\u001b[39menv\u001b[38;5;241m.\u001b[39mstep(action)\n",
      "File \u001b[0;32m~/anaconda3/envs/unsloth_env/lib/python3.11/site-packages/gymnasium/spaces/discrete.py:93\u001b[0m, in \u001b[0;36mDiscrete.sample\u001b[0;34m(self, mask)\u001b[0m\n\u001b[1;32m     90\u001b[0m     \u001b[38;5;28;01melse\u001b[39;00m:\n\u001b[1;32m     91\u001b[0m         \u001b[38;5;28;01mreturn\u001b[39;00m \u001b[38;5;28mself\u001b[39m\u001b[38;5;241m.\u001b[39mstart\n\u001b[0;32m---> 93\u001b[0m \u001b[38;5;28;01mreturn\u001b[39;00m \u001b[38;5;28mself\u001b[39m\u001b[38;5;241m.\u001b[39mstart \u001b[38;5;241m+\u001b[39m \u001b[38;5;28;43mself\u001b[39;49m\u001b[38;5;241;43m.\u001b[39;49m\u001b[43mnp_random\u001b[49m\u001b[38;5;241;43m.\u001b[39;49m\u001b[43mintegers\u001b[49m\u001b[43m(\u001b[49m\u001b[38;5;28;43mself\u001b[39;49m\u001b[38;5;241;43m.\u001b[39;49m\u001b[43mn\u001b[49m\u001b[43m)\u001b[49m\n",
      "\u001b[0;31mKeyboardInterrupt\u001b[0m: "
     ]
    }
   ],
   "source": [
    "iter = 0\n",
    "best_reward = 0.0\n",
    "reward = 0\n",
    "test_env = gym.make(ENV_NAME)\n",
    "\n",
    "\n",
    "while True:\n",
    "    agent.play_n_random_steps(100)\n",
    "    agent.v_iteration()\n",
    "    iter += 1\n",
    "    \n",
    "    for i in range(TEST_EPISODES):\n",
    "        reward += agent.play_fullepisode(test_env)\n",
    "    \n",
    "    reward /= TEST_EPISODES\n",
    "    \n",
    "    writer.add_scalar(\"reward\", reward, iter)\n",
    "    \n",
    "    if reward > best_reward:\n",
    "            print(\"Best reward updated %.3f -> %.3f\" % (\n",
    "                best_reward, reward))\n",
    "            best_reward = reward\n",
    "            \n",
    "    if reward >= 0.80:\n",
    "        print(f\"Solved in {iter} steps!\")\n",
    "        break\n",
    "writer.close()"
   ]
  },
  {
   "cell_type": "code",
   "execution_count": null,
   "metadata": {},
   "outputs": [],
   "source": []
  },
  {
   "cell_type": "code",
   "execution_count": null,
   "metadata": {},
   "outputs": [],
   "source": []
  }
 ],
 "metadata": {
  "kernelspec": {
   "display_name": "unsloth_env",
   "language": "python",
   "name": "python3"
  },
  "language_info": {
   "codemirror_mode": {
    "name": "ipython",
    "version": 3
   },
   "file_extension": ".py",
   "mimetype": "text/x-python",
   "name": "python",
   "nbconvert_exporter": "python",
   "pygments_lexer": "ipython3",
   "version": "3.11.11"
  }
 },
 "nbformat": 4,
 "nbformat_minor": 2
}
